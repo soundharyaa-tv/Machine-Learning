{
 "cells": [
  {
   "cell_type": "code",
   "execution_count": 2,
   "metadata": {},
   "outputs": [],
   "source": [
    "import pandas as pd"
   ]
  },
  {
   "cell_type": "code",
   "execution_count": 3,
   "metadata": {},
   "outputs": [],
   "source": [
    "df=pd.read_csv(\"C://Users//Soundharyaa T V//Documents//ONLINE LEARNINGS//Tableau Projects//Heart Diseases Prediction//CardioVascular.csv\")"
   ]
  },
  {
   "cell_type": "code",
   "execution_count": 4,
   "metadata": {},
   "outputs": [
    {
     "data": {
      "text/html": [
       "<div>\n",
       "<style scoped>\n",
       "    .dataframe tbody tr th:only-of-type {\n",
       "        vertical-align: middle;\n",
       "    }\n",
       "\n",
       "    .dataframe tbody tr th {\n",
       "        vertical-align: top;\n",
       "    }\n",
       "\n",
       "    .dataframe thead th {\n",
       "        text-align: right;\n",
       "    }\n",
       "</style>\n",
       "<table border=\"1\" class=\"dataframe\">\n",
       "  <thead>\n",
       "    <tr style=\"text-align: right;\">\n",
       "      <th></th>\n",
       "      <th>sbp(mm Hg)</th>\n",
       "      <th>ldl(mmol/L)</th>\n",
       "      <th>adiposity</th>\n",
       "      <th>tobacco(in Kg)</th>\n",
       "      <th>alcohol</th>\n",
       "      <th>typea</th>\n",
       "      <th>age</th>\n",
       "      <th>FamHist</th>\n",
       "      <th>CHD</th>\n",
       "    </tr>\n",
       "  </thead>\n",
       "  <tbody>\n",
       "    <tr>\n",
       "      <th>0</th>\n",
       "      <td>160</td>\n",
       "      <td>5.73</td>\n",
       "      <td>23.11</td>\n",
       "      <td>12.00</td>\n",
       "      <td>97.20</td>\n",
       "      <td>49</td>\n",
       "      <td>52</td>\n",
       "      <td>1</td>\n",
       "      <td>Present</td>\n",
       "    </tr>\n",
       "    <tr>\n",
       "      <th>1</th>\n",
       "      <td>144</td>\n",
       "      <td>4.41</td>\n",
       "      <td>28.61</td>\n",
       "      <td>0.01</td>\n",
       "      <td>2.06</td>\n",
       "      <td>55</td>\n",
       "      <td>63</td>\n",
       "      <td>0</td>\n",
       "      <td>Present</td>\n",
       "    </tr>\n",
       "    <tr>\n",
       "      <th>2</th>\n",
       "      <td>118</td>\n",
       "      <td>3.48</td>\n",
       "      <td>32.28</td>\n",
       "      <td>0.08</td>\n",
       "      <td>3.81</td>\n",
       "      <td>52</td>\n",
       "      <td>46</td>\n",
       "      <td>1</td>\n",
       "      <td>Absent</td>\n",
       "    </tr>\n",
       "    <tr>\n",
       "      <th>3</th>\n",
       "      <td>170</td>\n",
       "      <td>6.41</td>\n",
       "      <td>38.03</td>\n",
       "      <td>7.50</td>\n",
       "      <td>24.26</td>\n",
       "      <td>51</td>\n",
       "      <td>58</td>\n",
       "      <td>1</td>\n",
       "      <td>Present</td>\n",
       "    </tr>\n",
       "    <tr>\n",
       "      <th>4</th>\n",
       "      <td>134</td>\n",
       "      <td>3.50</td>\n",
       "      <td>27.78</td>\n",
       "      <td>13.60</td>\n",
       "      <td>57.34</td>\n",
       "      <td>60</td>\n",
       "      <td>49</td>\n",
       "      <td>1</td>\n",
       "      <td>Present</td>\n",
       "    </tr>\n",
       "  </tbody>\n",
       "</table>\n",
       "</div>"
      ],
      "text/plain": [
       "   sbp(mm Hg)  ldl(mmol/L)  adiposity  tobacco(in Kg)  alcohol  typea  age  \\\n",
       "0         160         5.73      23.11           12.00    97.20     49   52   \n",
       "1         144         4.41      28.61            0.01     2.06     55   63   \n",
       "2         118         3.48      32.28            0.08     3.81     52   46   \n",
       "3         170         6.41      38.03            7.50    24.26     51   58   \n",
       "4         134         3.50      27.78           13.60    57.34     60   49   \n",
       "\n",
       "   FamHist      CHD  \n",
       "0        1  Present  \n",
       "1        0  Present  \n",
       "2        1   Absent  \n",
       "3        1  Present  \n",
       "4        1  Present  "
      ]
     },
     "execution_count": 4,
     "metadata": {},
     "output_type": "execute_result"
    }
   ],
   "source": [
    "df.head()"
   ]
  },
  {
   "cell_type": "code",
   "execution_count": 5,
   "metadata": {},
   "outputs": [],
   "source": [
    "col=df.columns.to_list()"
   ]
  },
  {
   "cell_type": "code",
   "execution_count": 7,
   "metadata": {},
   "outputs": [
    {
     "data": {
      "text/plain": [
       "['sbp(mm Hg)',\n",
       " 'ldl(mmol/L)',\n",
       " 'adiposity',\n",
       " 'tobacco(in Kg)',\n",
       " 'alcohol',\n",
       " 'typea',\n",
       " 'age',\n",
       " 'FamHist',\n",
       " 'CHD']"
      ]
     },
     "execution_count": 7,
     "metadata": {},
     "output_type": "execute_result"
    }
   ],
   "source": [
    "col"
   ]
  },
  {
   "cell_type": "code",
   "execution_count": 11,
   "metadata": {},
   "outputs": [],
   "source": [
    "sbp=[df['sbp(mm Hg)'].to_list()]\n",
    "ldl=[df['ldl(mmol/L)'].to_list()]\n",
    "adip=[df['adiposity'].to_list()]\n",
    "tob=[df['tobacco(in Kg)'].to_list()]\n",
    "alc=[df['alcohol'].to_list()]\n",
    "typa=[df['typea'].to_list()]\n",
    "age=[df[ 'age'].to_list()]\n",
    "fh=[df[ 'FamHist'].to_list()]\n",
    "hd=[df['CHD'].to_list()]"
   ]
  },
  {
   "cell_type": "code",
   "execution_count": 15,
   "metadata": {},
   "outputs": [],
   "source": [
    "dic={\n",
    "    col[0]:sbp,\n",
    "    col[1]:ldl,\n",
    "    col[2]:adip,\n",
    "    col[3]:tob,\n",
    "    col[4]:alc,\n",
    "    col[5]:typa,\n",
    "    col[6]:age,\n",
    "    col[7]:fh,\n",
    "    col[8]:hd\n",
    "    \n",
    "}"
   ]
  },
  {
   "cell_type": "code",
   "execution_count": 16,
   "metadata": {},
   "outputs": [
    {
     "data": {
      "text/html": [
       "<div>\n",
       "<style scoped>\n",
       "    .dataframe tbody tr th:only-of-type {\n",
       "        vertical-align: middle;\n",
       "    }\n",
       "\n",
       "    .dataframe tbody tr th {\n",
       "        vertical-align: top;\n",
       "    }\n",
       "\n",
       "    .dataframe thead th {\n",
       "        text-align: right;\n",
       "    }\n",
       "</style>\n",
       "<table border=\"1\" class=\"dataframe\">\n",
       "  <thead>\n",
       "    <tr style=\"text-align: right;\">\n",
       "      <th></th>\n",
       "      <th>sbp(mm Hg)</th>\n",
       "      <th>ldl(mmol/L)</th>\n",
       "      <th>adiposity</th>\n",
       "      <th>tobacco(in Kg)</th>\n",
       "      <th>alcohol</th>\n",
       "      <th>typea</th>\n",
       "      <th>age</th>\n",
       "      <th>FamHist</th>\n",
       "      <th>CHD</th>\n",
       "    </tr>\n",
       "  </thead>\n",
       "  <tbody>\n",
       "    <tr>\n",
       "      <th>0</th>\n",
       "      <td>[160, 144, 118, 170, 134, 132, 142, 114, 114, ...</td>\n",
       "      <td>[5.73, 4.41, 3.48, 6.41, 3.5, 6.47, 3.38, 4.59...</td>\n",
       "      <td>[23.11, 28.61, 32.28, 38.03, 27.78, 36.21, 16....</td>\n",
       "      <td>[12.0, 0.01, 0.08, 7.5, 13.6, 6.2, 4.05, 4.08,...</td>\n",
       "      <td>[97.2, 2.06, 3.81, 24.26, 57.34, 14.14, 2.62, ...</td>\n",
       "      <td>[49, 55, 52, 51, 60, 62, 59, 62, 49, 69, 72, 6...</td>\n",
       "      <td>[52, 63, 46, 58, 49, 45, 38, 58, 29, 53, 60, 4...</td>\n",
       "      <td>[1, 0, 1, 1, 1, 1, 0, 1, 1, 1, 0, 1, 0, 0, 1, ...</td>\n",
       "      <td>[Present, Present, Absent, Present, Present, A...</td>\n",
       "    </tr>\n",
       "  </tbody>\n",
       "</table>\n",
       "</div>"
      ],
      "text/plain": [
       "                                          sbp(mm Hg)  \\\n",
       "0  [160, 144, 118, 170, 134, 132, 142, 114, 114, ...   \n",
       "\n",
       "                                         ldl(mmol/L)  \\\n",
       "0  [5.73, 4.41, 3.48, 6.41, 3.5, 6.47, 3.38, 4.59...   \n",
       "\n",
       "                                           adiposity  \\\n",
       "0  [23.11, 28.61, 32.28, 38.03, 27.78, 36.21, 16....   \n",
       "\n",
       "                                      tobacco(in Kg)  \\\n",
       "0  [12.0, 0.01, 0.08, 7.5, 13.6, 6.2, 4.05, 4.08,...   \n",
       "\n",
       "                                             alcohol  \\\n",
       "0  [97.2, 2.06, 3.81, 24.26, 57.34, 14.14, 2.62, ...   \n",
       "\n",
       "                                               typea  \\\n",
       "0  [49, 55, 52, 51, 60, 62, 59, 62, 49, 69, 72, 6...   \n",
       "\n",
       "                                                 age  \\\n",
       "0  [52, 63, 46, 58, 49, 45, 38, 58, 29, 53, 60, 4...   \n",
       "\n",
       "                                             FamHist  \\\n",
       "0  [1, 0, 1, 1, 1, 1, 0, 1, 1, 1, 0, 1, 0, 0, 1, ...   \n",
       "\n",
       "                                                 CHD  \n",
       "0  [Present, Present, Absent, Present, Present, A...  "
      ]
     },
     "execution_count": 16,
     "metadata": {},
     "output_type": "execute_result"
    }
   ],
   "source": [
    "df=pd.DataFrame(dic)\n",
    "df"
   ]
  },
  {
   "cell_type": "code",
   "execution_count": 17,
   "metadata": {},
   "outputs": [],
   "source": [
    "df.to_excel(\"C://Users//Soundharyaa T V//Documents//ONLINE LEARNINGS//Tableau Projects//Heart Diseases Prediction//Cardio.xlsx\")"
   ]
  },
  {
   "cell_type": "code",
   "execution_count": null,
   "metadata": {},
   "outputs": [],
   "source": []
  },
  {
   "cell_type": "code",
   "execution_count": null,
   "metadata": {},
   "outputs": [],
   "source": []
  }
 ],
 "metadata": {
  "kernelspec": {
   "display_name": "Python 3",
   "language": "python",
   "name": "python3"
  },
  "language_info": {
   "codemirror_mode": {
    "name": "ipython",
    "version": 3
   },
   "file_extension": ".py",
   "mimetype": "text/x-python",
   "name": "python",
   "nbconvert_exporter": "python",
   "pygments_lexer": "ipython3",
   "version": "3.7.3"
  }
 },
 "nbformat": 4,
 "nbformat_minor": 2
}
